{
 "cells": [
  {
   "cell_type": "code",
   "execution_count": 3,
   "metadata": {},
   "outputs": [
    {
     "name": "stdout",
     "output_type": "stream",
     "text": [
      "입력 파일 이름:C:\\Users\\helic\\Desktop\\HumptyDumpty.txt\n"
     ]
    }
   ],
   "source": [
    "a=input(\"입력 파일 이름:\")"
   ]
  },
  {
   "cell_type": "code",
   "execution_count": 4,
   "metadata": {},
   "outputs": [],
   "source": [
    "dic={}"
   ]
  },
  {
   "cell_type": "code",
   "execution_count": 5,
   "metadata": {},
   "outputs": [],
   "source": [
    "infile=open(a,\"r\")\n",
    "\n",
    "for line in infile:\n",
    "    for ch in line:\n",
    "        if str.isalpha(ch):\n",
    "            dic[ch]=0      \n",
    "infile.close()"
   ]
  },
  {
   "cell_type": "code",
   "execution_count": 6,
   "metadata": {},
   "outputs": [],
   "source": [
    "infile=open(a,\"r\")\n",
    "for line in infile:\n",
    "    for ch in line:\n",
    "        if str.isalpha(ch):\n",
    "            dic[ch]=dic[ch]+1\n",
    "infile.close()"
   ]
  },
  {
   "cell_type": "code",
   "execution_count": 7,
   "metadata": {},
   "outputs": [
    {
     "name": "stdout",
     "output_type": "stream",
     "text": [
      "{'H': 3, 'u': 7, 'm': 6, 'p': 6, 't': 13, 'y': 5, 'D': 2, 's': 5, 'a': 11, 'o': 4, 'n': 7, 'w': 1, 'l': 9, 'h': 5, 'd': 3, 'g': 5, 'r': 3, 'e': 7, 'f': 1, 'A': 1, 'k': 2, 'i': 3, 'C': 1}\n"
     ]
    }
   ],
   "source": [
    "print(dic)"
   ]
  },
  {
   "cell_type": "code",
   "execution_count": null,
   "metadata": {},
   "outputs": [],
   "source": []
  }
 ],
 "metadata": {
  "kernelspec": {
   "display_name": "Python 3",
   "language": "python",
   "name": "python3"
  },
  "language_info": {
   "codemirror_mode": {
    "name": "ipython",
    "version": 3
   },
   "file_extension": ".py",
   "mimetype": "text/x-python",
   "name": "python",
   "nbconvert_exporter": "python",
   "pygments_lexer": "ipython3",
   "version": "3.7.6"
  }
 },
 "nbformat": 4,
 "nbformat_minor": 4
}
